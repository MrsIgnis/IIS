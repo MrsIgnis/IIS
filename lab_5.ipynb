{
  "nbformat": 4,
  "nbformat_minor": 0,
  "metadata": {
    "colab": {
      "provenance": [],
      "authorship_tag": "ABX9TyPFzEfVJGT3lL4c2N+GVS+D",
      "include_colab_link": true
    },
    "kernelspec": {
      "name": "python3",
      "display_name": "Python 3"
    },
    "language_info": {
      "name": "python"
    }
  },
  "cells": [
    {
      "cell_type": "markdown",
      "metadata": {
        "id": "view-in-github",
        "colab_type": "text"
      },
      "source": [
        "<a href=\"https://colab.research.google.com/github/MrsIgnis/IIS/blob/main/lab_5.ipynb\" target=\"_parent\"><img src=\"https://colab.research.google.com/assets/colab-badge.svg\" alt=\"Open In Colab\"/></a>"
      ]
    },
    {
      "cell_type": "markdown",
      "source": [
        "**22 вариант**"
      ],
      "metadata": {
        "id": "WXkWCGUdsO1z"
      }
    },
    {
      "cell_type": "markdown",
      "source": [
        "# **Классификация с использованием нейронной сети**"
      ],
      "metadata": {
        "id": "0jHZj4cysUEF"
      }
    },
    {
      "cell_type": "markdown",
      "source": [
        "Требуется:\n",
        " 1. Выполнить предобработку данных согласно примеру:\n",
        " - разделение входных и выходных переменных;\n",
        " - нормирование входных данных;\n",
        " - кодирование выходных данных;\n",
        " - разбиение данных на обучающий и тестовый наборы.\n",
        " 2. С помощью Tensorflow или пакета Neuralnet в R построить нейронную сеть и обучить ее на обучающем наборе;\n",
        " 3. Вывести:\n",
        " - метрики процесса обучения нейронной сети (для Tensorflow);\n",
        " - результаты проверки на тестовой выборке (количество верно\n",
        "классифицированных)."
      ],
      "metadata": {
        "id": "1oA0fpAesZaB"
      }
    },
    {
      "cell_type": "markdown",
      "source": [
        "**I. Предобработка данных**"
      ],
      "metadata": {
        "id": "gaVMKcr0tBb4"
      }
    },
    {
      "cell_type": "code",
      "execution_count": 11,
      "metadata": {
        "id": "tfR1I2W5o5qP"
      },
      "outputs": [],
      "source": [
        "import numpy as np\n",
        "import pandas as pd\n",
        "from sklearn.preprocessing import OneHotEncoder\n",
        "from sklearn.model_selection import train_test_split\n",
        "import matplotlib.pyplot as plt\n",
        "\n",
        "import tensorflow as tf\n",
        "from tensorflow.keras.models import Sequential\n",
        "from tensorflow.keras.layers import Dense"
      ]
    },
    {
      "cell_type": "code",
      "source": [
        "data = {\"X\":[ 0.61640473, 1.15105065, 1.08250887, 1.79122928, 0.87039848, 0.26382425, 0.84614641, 1.55592257, 1.22496438,-1.4641585 , 1.73408666, 0.20890011, 3.46656717, 1.13871152, 1.78350193, 1.15869532, 0.86816178,-0.46619501, 1.7147475 , 0.95349613, 2.03330018, 0.94899542, 0.96809256, 1.66897401, 0.81688905, 0.37805417, 8.2117662 , 7.44274157, 8.26936762, 7.05845212, 8.2401766 , 8.39251953, 7.9017118 , 8.47140668, 8.07421192, 7.62078121, 7.8695178 , 8.27561367, 7.15181535, 8.09326882, 8.39302119, 8.72889083, 8.14491844, 7.48622333, 7.94410244, 8.38488149, 7.4691065 , 8.10428134, 8.41319561, 8.58870922, 8.61526439, 7.21183975,12.93260704,13.93222732, 13.19626297,13.01758343,13.00275053,12.83840356,12.05953037,12.42767898, 13.35518722,12.90938394,12.35846874,12.24289816,12.40814792,13.04251117, 13.17897758,13.9911899 ,12.65809604,12.94499417,13.24743098,12.36464381, 12.86587426,13.73274265,12.95700056,13.27748815,13.77145072,11.83077875],\n",
        "\"Y\":[ 5.61395349, 5.66676063, 5.65913736, 5.36826837, 6.21026526, 5.62081978, 5.70366974, 6.17307621, 5.76266525, 6.83890642, 6.05998745, 6.28158697, 6.59867941, 5.75451212, 6.41322846, 5.03975477, 5.16188088, 5.34944896, 5.85256832, 5.86476286, 4.80131921, 6.35037561, 5.57281315, 5.84366496, 5.6181988 , 5.04028016, 1.93756052, 1.96886584, 2.09393026, 1.82263193, 1.65022885, 2.43264147, 2.32922951, 1.55240193, 1.29377604, 2.52241949, 1.93214599, 1.84085824, 1.92443497, 0.87473477, 2.41850125, 2.69700006, 1.51019455, 1.56846952, 1.97841763, 1.88622786, 2.08679634, 1.59212411, 1.95891633, 1.72761996, 3.50018495, 2.34147545, 8.93273696, 9.57230339, 9.87868184, 9.2897729 , 7.73107786, 7.20577279, 9.86735616,12.92067662, 11.41341307, 8.46875662,12.14883277, 8.84421437, 7.30178167, 9.97884107, 12.01338794,11.21431915,10.3307007 , 8.91373949,10.6409741 , 9.11299278, 5.71617856,11.09254073, 8.6904354 ,10.40730987, 8.86833783, 8.0552307 ],\n",
        "\"class\":['Class1', 'Class1', 'Class1', 'Class1', 'Class1', 'Class1', 'Class1', 'Class1', 'Class1', 'Class1', 'Class1', 'Class1', 'Class1', 'Class1', 'Class1', 'Class1', 'Class1', 'Class1', 'Class1', 'Class1', 'Class1', 'Class1', 'Class1', 'Class1', 'Class1', 'Class1', 'Class2', 'Class2', 'Class2', 'Class2', 'Class2', 'Class2', 'Class2', 'Class2', 'Class2', 'Class2', 'Class2', 'Class2', 'Class2', 'Class2', 'Class2', 'Class2', 'Class2', 'Class2', 'Class2', 'Class2', 'Class2', 'Class2', 'Class2', 'Class2', 'Class2', 'Class2', 'Class3', 'Class3', 'Class3', 'Class3', 'Class3', 'Class3', 'Class3', 'Class3', 'Class3', 'Class3', 'Class3', 'Class3', 'Class3', 'Class3', 'Class3', 'Class3', 'Class3', 'Class3', 'Class3', 'Class3', 'Class3', 'Class3', 'Class3', 'Class3', 'Class3', 'Class3']\n",
        "}"
      ],
      "metadata": {
        "id": "77J791S7qW1F"
      },
      "execution_count": 3,
      "outputs": []
    },
    {
      "cell_type": "code",
      "source": [
        "X = np.c_[data[\"X\"], data[\"Y\"]]\n",
        "Y_raw = data[\"class\"]\n",
        "\n",
        "xmin = np.min(X)\n",
        "Xnorm = (X - xmin) / (np.max(X) - xmin)\n",
        "\n",
        "ohe = OneHotEncoder(sparse_output=False)\n",
        "Yenc = ohe.fit_transform(np.array(Y_raw).reshape(-1, 1))"
      ],
      "metadata": {
        "id": "AksAVcaMqQ0Y"
      },
      "execution_count": 24,
      "outputs": []
    },
    {
      "cell_type": "code",
      "source": [
        "print(f\"Форма тензора X (нормированные входы): {Xnorm.shape}\")\n",
        "print(f\"Форма тензора Y (One-Hot кодирование): {Yenc.shape}\")\n",
        "print(f\"Обнаруженные классы: {ohe.categories_[0]}\")"
      ],
      "metadata": {
        "colab": {
          "base_uri": "https://localhost:8080/"
        },
        "id": "w1i8gVTQqiwz",
        "outputId": "ff246918-dacc-4384-dbc7-3a6670bed279"
      },
      "execution_count": 8,
      "outputs": [
        {
          "output_type": "stream",
          "name": "stdout",
          "text": [
            "Форма тензора X (нормированные входы): (78, 2)\n",
            "Форма тензора Y (One-Hot кодирование): (78, 3)\n",
            "Обнаруженные классы: ['Class1' 'Class2' 'Class3']\n"
          ]
        }
      ]
    },
    {
      "cell_type": "code",
      "source": [
        "xTrain, xTest, yTrain, yTest = train_test_split(Xnorm, Yenc, test_size=0.25, random_state=42)"
      ],
      "metadata": {
        "id": "mfXeTaZhq1Id"
      },
      "execution_count": 9,
      "outputs": []
    },
    {
      "cell_type": "code",
      "source": [
        "print(f\"Форма тензора xTrain: {xTrain.shape}\")\n",
        "print(f\"Форма тензора yTrain: {yTrain.shape}\")\n",
        "print(f\"Форма тензора xTest: {xTest.shape}\")\n",
        "print(f\"Форма тензора yTest: {yTest.shape}\")"
      ],
      "metadata": {
        "colab": {
          "base_uri": "https://localhost:8080/"
        },
        "id": "N8Wk7JFfq4za",
        "outputId": "7e434cfd-8e1f-405b-e575-74a54b177935"
      },
      "execution_count": 25,
      "outputs": [
        {
          "output_type": "stream",
          "name": "stdout",
          "text": [
            "Форма тензора xTrain: (58, 2)\n",
            "Форма тензора yTrain: (58, 3)\n",
            "Форма тензора xTest: (20, 2)\n",
            "Форма тензора yTest: (20, 3)\n"
          ]
        }
      ]
    },
    {
      "cell_type": "markdown",
      "source": [
        "**II. Построение и обучение нейронной сети**"
      ],
      "metadata": {
        "id": "IK_NGv9YtnR6"
      }
    },
    {
      "cell_type": "code",
      "source": [
        "input_dim = xTrain.shape[1]\n",
        "output_dim = yTrain.shape[1]"
      ],
      "metadata": {
        "id": "oipRgpGLrNFY"
      },
      "execution_count": 12,
      "outputs": []
    },
    {
      "cell_type": "code",
      "source": [
        "model = Sequential([\n",
        "    Dense(units=4, activation=\"relu\", input_shape=(input_dim,)),\n",
        "    Dense(units=4, activation=\"relu\"),\n",
        "    Dense(units=output_dim, activation=\"softmax\")\n",
        "])\n",
        "\n",
        "model.compile(\n",
        "    optimizer=\"adam\",\n",
        "    loss=\"categorical_crossentropy\",\n",
        "    metrics=[\"categorical_accuracy\"]\n",
        ")\n",
        "\n",
        "model.summary()"
      ],
      "metadata": {
        "colab": {
          "base_uri": "https://localhost:8080/",
          "height": 280
        },
        "id": "kCmZkcDJrRQS",
        "outputId": "55a3b86b-7da3-4054-cffb-a6bea5805b8c"
      },
      "execution_count": 26,
      "outputs": [
        {
          "output_type": "stream",
          "name": "stderr",
          "text": [
            "/usr/local/lib/python3.12/dist-packages/keras/src/layers/core/dense.py:93: UserWarning: Do not pass an `input_shape`/`input_dim` argument to a layer. When using Sequential models, prefer using an `Input(shape)` object as the first layer in the model instead.\n",
            "  super().__init__(activity_regularizer=activity_regularizer, **kwargs)\n"
          ]
        },
        {
          "output_type": "display_data",
          "data": {
            "text/plain": [
              "\u001b[1mModel: \"sequential_1\"\u001b[0m\n"
            ],
            "text/html": [
              "<pre style=\"white-space:pre;overflow-x:auto;line-height:normal;font-family:Menlo,'DejaVu Sans Mono',consolas,'Courier New',monospace\"><span style=\"font-weight: bold\">Model: \"sequential_1\"</span>\n",
              "</pre>\n"
            ]
          },
          "metadata": {}
        },
        {
          "output_type": "display_data",
          "data": {
            "text/plain": [
              "┏━━━━━━━━━━━━━━━━━━━━━━━━━━━━━━━━━┳━━━━━━━━━━━━━━━━━━━━━━━━┳━━━━━━━━━━━━━━━┓\n",
              "┃\u001b[1m \u001b[0m\u001b[1mLayer (type)                   \u001b[0m\u001b[1m \u001b[0m┃\u001b[1m \u001b[0m\u001b[1mOutput Shape          \u001b[0m\u001b[1m \u001b[0m┃\u001b[1m \u001b[0m\u001b[1m      Param #\u001b[0m\u001b[1m \u001b[0m┃\n",
              "┡━━━━━━━━━━━━━━━━━━━━━━━━━━━━━━━━━╇━━━━━━━━━━━━━━━━━━━━━━━━╇━━━━━━━━━━━━━━━┩\n",
              "│ dense_3 (\u001b[38;5;33mDense\u001b[0m)                 │ (\u001b[38;5;45mNone\u001b[0m, \u001b[38;5;34m4\u001b[0m)              │            \u001b[38;5;34m12\u001b[0m │\n",
              "├─────────────────────────────────┼────────────────────────┼───────────────┤\n",
              "│ dense_4 (\u001b[38;5;33mDense\u001b[0m)                 │ (\u001b[38;5;45mNone\u001b[0m, \u001b[38;5;34m4\u001b[0m)              │            \u001b[38;5;34m20\u001b[0m │\n",
              "├─────────────────────────────────┼────────────────────────┼───────────────┤\n",
              "│ dense_5 (\u001b[38;5;33mDense\u001b[0m)                 │ (\u001b[38;5;45mNone\u001b[0m, \u001b[38;5;34m3\u001b[0m)              │            \u001b[38;5;34m15\u001b[0m │\n",
              "└─────────────────────────────────┴────────────────────────┴───────────────┘\n"
            ],
            "text/html": [
              "<pre style=\"white-space:pre;overflow-x:auto;line-height:normal;font-family:Menlo,'DejaVu Sans Mono',consolas,'Courier New',monospace\">┏━━━━━━━━━━━━━━━━━━━━━━━━━━━━━━━━━┳━━━━━━━━━━━━━━━━━━━━━━━━┳━━━━━━━━━━━━━━━┓\n",
              "┃<span style=\"font-weight: bold\"> Layer (type)                    </span>┃<span style=\"font-weight: bold\"> Output Shape           </span>┃<span style=\"font-weight: bold\">       Param # </span>┃\n",
              "┡━━━━━━━━━━━━━━━━━━━━━━━━━━━━━━━━━╇━━━━━━━━━━━━━━━━━━━━━━━━╇━━━━━━━━━━━━━━━┩\n",
              "│ dense_3 (<span style=\"color: #0087ff; text-decoration-color: #0087ff\">Dense</span>)                 │ (<span style=\"color: #00d7ff; text-decoration-color: #00d7ff\">None</span>, <span style=\"color: #00af00; text-decoration-color: #00af00\">4</span>)              │            <span style=\"color: #00af00; text-decoration-color: #00af00\">12</span> │\n",
              "├─────────────────────────────────┼────────────────────────┼───────────────┤\n",
              "│ dense_4 (<span style=\"color: #0087ff; text-decoration-color: #0087ff\">Dense</span>)                 │ (<span style=\"color: #00d7ff; text-decoration-color: #00d7ff\">None</span>, <span style=\"color: #00af00; text-decoration-color: #00af00\">4</span>)              │            <span style=\"color: #00af00; text-decoration-color: #00af00\">20</span> │\n",
              "├─────────────────────────────────┼────────────────────────┼───────────────┤\n",
              "│ dense_5 (<span style=\"color: #0087ff; text-decoration-color: #0087ff\">Dense</span>)                 │ (<span style=\"color: #00d7ff; text-decoration-color: #00d7ff\">None</span>, <span style=\"color: #00af00; text-decoration-color: #00af00\">3</span>)              │            <span style=\"color: #00af00; text-decoration-color: #00af00\">15</span> │\n",
              "└─────────────────────────────────┴────────────────────────┴───────────────┘\n",
              "</pre>\n"
            ]
          },
          "metadata": {}
        },
        {
          "output_type": "display_data",
          "data": {
            "text/plain": [
              "\u001b[1m Total params: \u001b[0m\u001b[38;5;34m47\u001b[0m (188.00 B)\n"
            ],
            "text/html": [
              "<pre style=\"white-space:pre;overflow-x:auto;line-height:normal;font-family:Menlo,'DejaVu Sans Mono',consolas,'Courier New',monospace\"><span style=\"font-weight: bold\"> Total params: </span><span style=\"color: #00af00; text-decoration-color: #00af00\">47</span> (188.00 B)\n",
              "</pre>\n"
            ]
          },
          "metadata": {}
        },
        {
          "output_type": "display_data",
          "data": {
            "text/plain": [
              "\u001b[1m Trainable params: \u001b[0m\u001b[38;5;34m47\u001b[0m (188.00 B)\n"
            ],
            "text/html": [
              "<pre style=\"white-space:pre;overflow-x:auto;line-height:normal;font-family:Menlo,'DejaVu Sans Mono',consolas,'Courier New',monospace\"><span style=\"font-weight: bold\"> Trainable params: </span><span style=\"color: #00af00; text-decoration-color: #00af00\">47</span> (188.00 B)\n",
              "</pre>\n"
            ]
          },
          "metadata": {}
        },
        {
          "output_type": "display_data",
          "data": {
            "text/plain": [
              "\u001b[1m Non-trainable params: \u001b[0m\u001b[38;5;34m0\u001b[0m (0.00 B)\n"
            ],
            "text/html": [
              "<pre style=\"white-space:pre;overflow-x:auto;line-height:normal;font-family:Menlo,'DejaVu Sans Mono',consolas,'Courier New',monospace\"><span style=\"font-weight: bold\"> Non-trainable params: </span><span style=\"color: #00af00; text-decoration-color: #00af00\">0</span> (0.00 B)\n",
              "</pre>\n"
            ]
          },
          "metadata": {}
        }
      ]
    },
    {
      "cell_type": "code",
      "source": [
        "EPOCHS = 100\n",
        "BATCH_SIZE = 10\n",
        "\n",
        "hist = model.fit(\n",
        "    x=xTrain,\n",
        "    y=yTrain,\n",
        "    epochs=EPOCHS,\n",
        "    batch_size=BATCH_SIZE,\n",
        "    verbose=0\n",
        ")\n",
        "\n",
        "print(f\"\\nОбучение завершено за {EPOCHS} эпох.\")"
      ],
      "metadata": {
        "colab": {
          "base_uri": "https://localhost:8080/"
        },
        "id": "8SdVQPQ_rfVt",
        "outputId": "f592c5b3-b827-4432-ce70-eb28bd88d31c"
      },
      "execution_count": 19,
      "outputs": [
        {
          "output_type": "stream",
          "name": "stdout",
          "text": [
            "\n",
            "Обучение завершено за 100 эпох.\n"
          ]
        }
      ]
    },
    {
      "cell_type": "markdown",
      "source": [
        "**III. Вывод результатов**"
      ],
      "metadata": {
        "id": "H9XgxrL3uFVA"
      }
    },
    {
      "cell_type": "code",
      "source": [
        "plt.figure(figsize=(10, 5))\n",
        "plt.plot(hist.history[\"loss\"], label=\"Loss (Training)\")\n",
        "plt.plot(hist.history[\"categorical_accuracy\"], label=\"Accuracy (Training)\")\n",
        "plt.title(\"Метрики обучения нейронной сети\")\n",
        "plt.ylabel(\"Loss / Accuracy\")\n",
        "plt.xlabel(\"Эпохи\")\n",
        "plt.legend()\n",
        "plt.grid(True)\n",
        "plt.show()"
      ],
      "metadata": {
        "colab": {
          "base_uri": "https://localhost:8080/",
          "height": 487
        },
        "id": "j0toGk2Yrgru",
        "outputId": "d0bb549f-d81a-4978-cdeb-b9332264bb2f"
      },
      "execution_count": 20,
      "outputs": [
        {
          "output_type": "display_data",
          "data": {
            "text/plain": [
              "<Figure size 1000x500 with 1 Axes>"
            ],
            "image/png": "[encoded data removed]"
          },
          "metadata": {}
        }
      ]
    },
    {
      "cell_type": "code",
      "source": [
        "loss, accuracy = model.evaluate(xTest, yTest, verbose=0)\n",
        "print(f\"Loss: {loss:.4f}\")\n",
        "print(f\"Categorical Accuracy (Встроенная метрика): {accuracy:.4f}\")"
      ],
      "metadata": {
        "colab": {
          "base_uri": "https://localhost:8080/"
        },
        "id": "jHg-MEgFr6mH",
        "outputId": "fd805834-f164-4e9c-f2a7-7933665d687c"
      },
      "execution_count": 27,
      "outputs": [
        {
          "output_type": "stream",
          "name": "stdout",
          "text": [
            "Loss: 1.2271\n",
            "Categorical Accuracy (Встроенная метрика): 0.4000\n"
          ]
        }
      ]
    },
    {
      "cell_type": "code",
      "source": [
        "yPred_logits = model.predict(xTest, verbose=0)\n",
        "\n",
        "yPred_indices = np.argmax(yPred_logits, axis=1)\n",
        "yActual_indices = np.argmax(yTest, axis=1)\n",
        "\n",
        "match = np.sum(yPred_indices == yActual_indices)"
      ],
      "metadata": {
        "id": "aDdhGGDrr96E"
      },
      "execution_count": 22,
      "outputs": []
    },
    {
      "cell_type": "code",
      "source": [
        "class_names = ohe.categories_[0]\n",
        "\n",
        "for i in range(len(xTest)):\n",
        "    maxLogit = yPred_indices[i]\n",
        "    yAct = yActual_indices[i]\n",
        "\n",
        "    predicted_class = class_names[maxLogit]\n",
        "    actual_class = class_names[yAct]\n",
        "\n",
        "    print(f\"Распознали как группу {predicted_class} | На самом деле: {actual_class}. {'(Верно)' if predicted_class == actual_class else '(Ошибка)'}\")\n",
        "\n",
        "\n",
        "print(f\"\\nВерно распознано: {match} из {len(xTest)}\")\n",
        "print(f\"Процент точности: {match / len(xTest) * 100:.2f}%\")"
      ],
      "metadata": {
        "colab": {
          "base_uri": "https://localhost:8080/"
        },
        "id": "JZVfooplsFpu",
        "outputId": "8661f341-81c0-421f-b57d-37da02cf2144"
      },
      "execution_count": 28,
      "outputs": [
        {
          "output_type": "stream",
          "name": "stdout",
          "text": [
            "Распознали как группу Class2 | На самом деле: Class2. (Верно)\n",
            "Распознали как группу Class1 | На самом деле: Class1. (Верно)\n",
            "Распознали как группу Class2 | На самом деле: Class2. (Верно)\n",
            "Распознали как группу Class1 | На самом деле: Class1. (Верно)\n",
            "Распознали как группу Class1 | На самом деле: Class1. (Верно)\n",
            "Распознали как группу Class3 | На самом деле: Class3. (Верно)\n",
            "Распознали как группу Class2 | На самом деле: Class2. (Верно)\n",
            "Распознали как группу Class1 | На самом деле: Class1. (Верно)\n",
            "Распознали как группу Class2 | На самом деле: Class2. (Верно)\n",
            "Распознали как группу Class3 | На самом деле: Class3. (Верно)\n",
            "Распознали как группу Class3 | На самом деле: Class3. (Верно)\n",
            "Распознали как группу Class1 | На самом деле: Class1. (Верно)\n",
            "Распознали как группу Class2 | На самом деле: Class3. (Ошибка)\n",
            "Распознали как группу Class3 | На самом деле: Class3. (Верно)\n",
            "Распознали как группу Class1 | На самом деле: Class1. (Верно)\n",
            "Распознали как группу Class2 | На самом деле: Class2. (Верно)\n",
            "Распознали как группу Class2 | На самом деле: Class2. (Верно)\n",
            "Распознали как группу Class3 | На самом деле: Class3. (Верно)\n",
            "Распознали как группу Class1 | На самом деле: Class1. (Верно)\n",
            "Распознали как группу Class1 | На самом деле: Class1. (Верно)\n",
            "\n",
            "Верно распознано: 19 из 20\n",
            "Процент точности: 95.00%\n"
          ]
        }
      ]
    }
  ]
}